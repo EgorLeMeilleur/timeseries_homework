{
 "cells": [
  {
   "cell_type": "code",
   "execution_count": 2,
   "metadata": {},
   "outputs": [],
   "source": [
    "import numpy as np\n",
    "import matplotlib.pyplot as plt\n",
    "import matplotlib\n",
    "import sounddevice as sd\n",
    "from scipy.io import wavfile\n",
    "from scipy import signal\n",
    "from pydub import AudioSegment\n",
    "import librosa\n",
    "from spafe.features.gfcc import gfcc"
   ]
  },
  {
   "cell_type": "code",
   "execution_count": null,
   "metadata": {},
   "outputs": [],
   "source": [
    "f1 = 'Alesis-Sanctuary-QCard-Crotales-C6.wav'\n",
    "f2 = 'E-Mu-Proteus-2-Electric-Guitar-C4.wav'\n",
    "\n",
    "\n",
    "samplerate1, data1 = wavfile.read(f1)\n",
    "samplerate2, data2 = wavfile.read(f2)\n",
    "print('Audio Shape 1:',np.shape(data1),'Audio Shape 2:',np.shape(data2))"
   ]
  },
  {
   "cell_type": "code",
   "execution_count": null,
   "metadata": {},
   "outputs": [],
   "source": [
    "data1 = data1[:,0]\n",
    "data2 = data2[:,0]"
   ]
  },
  {
   "cell_type": "code",
   "execution_count": null,
   "metadata": {},
   "outputs": [],
   "source": [
    "sd.play(data1, samplerate1)\n",
    "sd.wait()"
   ]
  },
  {
   "cell_type": "code",
   "execution_count": null,
   "metadata": {},
   "outputs": [],
   "source": [
    "sd.play(data2, samplerate2)\n",
    "sd.wait()"
   ]
  },
  {
   "cell_type": "code",
   "execution_count": null,
   "metadata": {},
   "outputs": [],
   "source": [
    "duration1 = len(data1)/samplerate1\n",
    "time1 = np.arange(0,duration1,1/samplerate1) #time vector\n",
    "\n",
    "duration2 = len(data2)/samplerate2\n",
    "time2 = np.arange(0,duration2,1/samplerate2) #time vector"
   ]
  },
  {
   "cell_type": "code",
   "execution_count": null,
   "metadata": {},
   "outputs": [],
   "source": [
    "fig, axs = plt.subplots(1,2,figsize=(20, 5))\n",
    "axs[0].plot(time1, data1)\n",
    "axs[1].plot(time2, data2)\n",
    "plt.xlabel('Time [s]')\n",
    "plt.ylabel('Amplitude')\n",
    "plt.show()"
   ]
  },
  {
   "cell_type": "code",
   "execution_count": null,
   "metadata": {},
   "outputs": [],
   "source": [
    "fig, axs = plt.subplots(1,2,figsize=(20, 8))\n",
    "fr1, tm1, spgram1 = signal.spectrogram(data1,samplerate1)\n",
    "fr2, tm2, spgram2 = signal.spectrogram(data2,samplerate2)\n",
    "\n",
    "lspg1 = np.log(spgram1)\n",
    "lspg2 = np.log(spgram2)\n",
    "axs[0].pcolormesh(tm1,fr1,lspg1,shading='auto')\n",
    "axs[1].pcolormesh(tm2,fr2,lspg2,shading='auto')\n",
    "plt.ylabel('Frequency (Hz)')\n",
    "plt.xlabel('Time (sec)')\n",
    "plt.show()"
   ]
  },
  {
   "cell_type": "code",
   "execution_count": null,
   "metadata": {},
   "outputs": [],
   "source": [
    "samples1, sample_rate1 = librosa.load(f1)\n",
    "\n",
    "y1 = samples1\n",
    "sr1 = sample_rate1\n",
    "mfccs1 = librosa.feature.mfcc(y=y1, sr=sr1, n_mfcc=10)\n",
    "\n",
    "samples2, sample_rate2 = librosa.load(f2)\n",
    "\n",
    "y2 = samples2\n",
    "sr2 = sample_rate2\n",
    "mfccs2 = librosa.feature.mfcc(y=y2, sr=sr2, n_mfcc=10)"
   ]
  },
  {
   "cell_type": "code",
   "execution_count": null,
   "metadata": {},
   "outputs": [],
   "source": [
    "mfccs2 = librosa.feature.mfcc(y=y2, sr=sr2, n_mfcc=10)\n",
    "s1 = mfccs1[0:1,:][0,:]\n",
    "t1 = [*range(len(s1))]\n",
    "s2 = mfccs2[0:1,:][0,:]\n",
    "t2 = [*range(len(s2))]\n",
    "plt.plot(t1,  s1.reshape(87,1),marker=matplotlib.markers.CARETDOWNBASE)\n",
    "plt.plot(t2,  s2.reshape(95,1),marker=matplotlib.markers.CARETDOWNBASE)\n",
    "plt.title('mfccs')\n",
    "plt.show()"
   ]
  },
  {
   "cell_type": "code",
   "execution_count": null,
   "metadata": {},
   "outputs": [],
   "source": [
    "samples1, sample_rate1 = librosa.load(f1)\n",
    "\n",
    "y1 = samples1\n",
    "sr1 = sample_rate1\n",
    "gfccs1 = gfcc(y1, fs=sr1, num_ceps=1)\n",
    "\n",
    "samples2, sample_rate2 = librosa.load(f2)\n",
    "\n",
    "y2 = samples2\n",
    "sr2 = sample_rate2\n",
    "gfccs2 = gfcc(y2, fs=sr2, num_ceps=1)   "
   ]
  },
  {
   "cell_type": "code",
   "execution_count": null,
   "metadata": {},
   "outputs": [],
   "source": [
    "plt.plot(gfccs1)\n",
    "plt.plot(gfccs2)\n",
    "plt.title('gfccs')\n",
    "plt.show()"
   ]
  }
 ],
 "metadata": {
  "kernelspec": {
   "display_name": "Python 3",
   "language": "python",
   "name": "python3"
  },
  "language_info": {
   "codemirror_mode": {
    "name": "ipython",
    "version": 3
   },
   "file_extension": ".py",
   "mimetype": "text/x-python",
   "name": "python",
   "nbconvert_exporter": "python",
   "pygments_lexer": "ipython3",
   "version": "3.11.1"
  }
 },
 "nbformat": 4,
 "nbformat_minor": 2
}
